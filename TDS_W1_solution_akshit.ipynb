{
  "nbformat": 4,
  "nbformat_minor": 0,
  "metadata": {
    "colab": {
      "provenance": []
    },
    "kernelspec": {
      "name": "python3",
      "display_name": "Python 3"
    },
    "language_info": {
      "name": "python"
    }
  },
  "cells": [
    {
      "cell_type": "markdown",
      "source": [
        "Hi ppl, I have created this notebook, you can verify or do your answers.\\\n",
        "You can connect with me on LinkedIn: https://www.linkedin.com/in/akshit12mittal \\\n",
        "I have used gpt and claude in most of them and scored 10/10 in GA1...finally;)"
      ],
      "metadata": {
        "id": "lJfFM3_QWXje"
      }
    },
    {
      "cell_type": "markdown",
      "source": [
        "##Q1\n",
        "\n",
        "1. Open VS Code.\n",
        "2. Click on terminal and select new.\n",
        "3. run command code -s in terminal."
      ],
      "metadata": {
        "id": "aCjUqbzS21Pq"
      }
    },
    {
      "cell_type": "markdown",
      "source": [
        "##Q2\n",
        "\n",
        "1. pip install httpie\n",
        "\n",
        "\n",
        "2. In the terminal, type the following command:\n",
        "\"uv run --with httpie -- https https://httpbin.org/get email=xxfxxxxxxx@ds.study.iitm.ac.in\"\\\n",
        "\n",
        "\n",
        "3.\n",
        "{\n",
        "  \"args\": {\n",
        "    \"email\": \"xxxxxxxx@ds.study.iitm.ac.in\"\n",
        "  },\n",
        "  \"headers\": {\n",
        "    \"Accept\": \"application/json, */*\",\n",
        "    \"Host\": \"httpbin.org\",\n",
        "    \"User-Agent\": \"HTTPie/3.2.1\"\n",
        "  },\n",
        "  \"origin\": \"YOUR_IP_ADDRESS\",\n",
        "  \"url\": \"https://httpbin.org/get?email=xxxxxxxxx@ds.study.iitm.ac.in\"\n",
        "}\n"
      ],
      "metadata": {
        "id": "oG2b7VYV3HP2"
      }
    },
    {
      "cell_type": "markdown",
      "source": [
        "##Q3\n",
        "Run this is directory:\\\n",
        "npx prettier@3.4.2 --write README.md\n",
        "\n",
        "\n"
      ],
      "metadata": {
        "id": "-QWdB3qA3C3F"
      }
    },
    {
      "cell_type": "markdown",
      "source": [
        "##Q4\n",
        ">=SUM(ARRAY_CONSTRAIN(SEQUENCE(100, 100, 3, 1), 1, 10))\n",
        "\n",
        "ans: 75"
      ],
      "metadata": {
        "id": "06FaBXrm66an"
      }
    },
    {
      "cell_type": "markdown",
      "source": [
        "## Q5\n",
        ">=SUM(TAKE(SORTBY({14,15,14,13,13,2,8,15,5,2,12,12,9,10,9,6}, {10,9,13,2,11,8,16,14,7,15,5,4,6,1,3,12}), 1, 12))\n",
        "\n",
        "Ans: 120"
      ],
      "metadata": {
        "id": "kyG7vb8H6_uS"
      }
    },
    {
      "cell_type": "markdown",
      "source": [
        "## Q6\n",
        "Go to inspect and hover over the paragraph:\\\n",
        "(My hidden Input: ud7ywxjhqq)"
      ],
      "metadata": {
        "id": "CTwiqY9p7HmJ"
      }
    },
    {
      "cell_type": "markdown",
      "source": [
        "##Q7\n"
      ],
      "metadata": {
        "id": "-7CHVuaN7jda"
      }
    },
    {
      "cell_type": "code",
      "source": [
        "from datetime import date, timedelta\n",
        "\n",
        "# Define the date range\n",
        "start_date = date(1981, 2, 22)\n",
        "end_date = date(2012, 7, 14)\n",
        "\n",
        "# Find the first Wednesday on or after the start date\n",
        "first_wednesday = start_date + timedelta((2 - start_date.weekday() + 7) % 7)\n",
        "\n",
        "# Find the last Wednesday on or before the end date\n",
        "last_wednesday = end_date - timedelta((end_date.weekday() - 2 + 7) % 7)\n",
        "\n",
        "# Calculate the number of days between the first and last Wednesday, inclusive\n",
        "days_between = (last_wednesday - first_wednesday).days\n",
        "\n",
        "# Count the number of Wednesdays\n",
        "number_of_wednesdays = days_between // 7 + 1\n",
        "first_wednesday, last_wednesday, number_of_wednesdays\n",
        "print(number_of_wednesdays)"
      ],
      "metadata": {
        "colab": {
          "base_uri": "https://localhost:8080/"
        },
        "id": "0Xw4CaQt7vNE",
        "outputId": "1c9b233f-c978-41c8-efee-1e45d0536293"
      },
      "execution_count": null,
      "outputs": [
        {
          "output_type": "stream",
          "name": "stdout",
          "text": [
            "1638\n"
          ]
        }
      ]
    },
    {
      "cell_type": "markdown",
      "source": [
        "## Q8"
      ],
      "metadata": {
        "id": "wC7L2u_W8A05"
      }
    },
    {
      "cell_type": "code",
      "source": [
        "import pandas as pd\n",
        "\n",
        "df= pd.read_csv(\"extract.csv\")\n",
        "df"
      ],
      "metadata": {
        "colab": {
          "base_uri": "https://localhost:8080/",
          "height": 89
        },
        "id": "MAxhcOIh8Hnv",
        "outputId": "c3b29ef7-85fe-43bb-9a0a-46a0053d807e"
      },
      "execution_count": null,
      "outputs": [
        {
          "output_type": "execute_result",
          "data": {
            "text/plain": [
              "                                  email answer\n",
              "0  23f2004636@ds.study.IIT Madras.ac.in  a1b43"
            ],
            "text/html": [
              "\n",
              "  <div id=\"df-40dbff20-54df-4acc-8482-f64c303defb3\" class=\"colab-df-container\">\n",
              "    <div>\n",
              "<style scoped>\n",
              "    .dataframe tbody tr th:only-of-type {\n",
              "        vertical-align: middle;\n",
              "    }\n",
              "\n",
              "    .dataframe tbody tr th {\n",
              "        vertical-align: top;\n",
              "    }\n",
              "\n",
              "    .dataframe thead th {\n",
              "        text-align: right;\n",
              "    }\n",
              "</style>\n",
              "<table border=\"1\" class=\"dataframe\">\n",
              "  <thead>\n",
              "    <tr style=\"text-align: right;\">\n",
              "      <th></th>\n",
              "      <th>email</th>\n",
              "      <th>answer</th>\n",
              "    </tr>\n",
              "  </thead>\n",
              "  <tbody>\n",
              "    <tr>\n",
              "      <th>0</th>\n",
              "      <td>23f2004636@ds.study.IIT Madras.ac.in</td>\n",
              "      <td>a1b43</td>\n",
              "    </tr>\n",
              "  </tbody>\n",
              "</table>\n",
              "</div>\n",
              "    <div class=\"colab-df-buttons\">\n",
              "\n",
              "  <div class=\"colab-df-container\">\n",
              "    <button class=\"colab-df-convert\" onclick=\"convertToInteractive('df-40dbff20-54df-4acc-8482-f64c303defb3')\"\n",
              "            title=\"Convert this dataframe to an interactive table.\"\n",
              "            style=\"display:none;\">\n",
              "\n",
              "  <svg xmlns=\"http://www.w3.org/2000/svg\" height=\"24px\" viewBox=\"0 -960 960 960\">\n",
              "    <path d=\"M120-120v-720h720v720H120Zm60-500h600v-160H180v160Zm220 220h160v-160H400v160Zm0 220h160v-160H400v160ZM180-400h160v-160H180v160Zm440 0h160v-160H620v160ZM180-180h160v-160H180v160Zm440 0h160v-160H620v160Z\"/>\n",
              "  </svg>\n",
              "    </button>\n",
              "\n",
              "  <style>\n",
              "    .colab-df-container {\n",
              "      display:flex;\n",
              "      gap: 12px;\n",
              "    }\n",
              "\n",
              "    .colab-df-convert {\n",
              "      background-color: #E8F0FE;\n",
              "      border: none;\n",
              "      border-radius: 50%;\n",
              "      cursor: pointer;\n",
              "      display: none;\n",
              "      fill: #1967D2;\n",
              "      height: 32px;\n",
              "      padding: 0 0 0 0;\n",
              "      width: 32px;\n",
              "    }\n",
              "\n",
              "    .colab-df-convert:hover {\n",
              "      background-color: #E2EBFA;\n",
              "      box-shadow: 0px 1px 2px rgba(60, 64, 67, 0.3), 0px 1px 3px 1px rgba(60, 64, 67, 0.15);\n",
              "      fill: #174EA6;\n",
              "    }\n",
              "\n",
              "    .colab-df-buttons div {\n",
              "      margin-bottom: 4px;\n",
              "    }\n",
              "\n",
              "    [theme=dark] .colab-df-convert {\n",
              "      background-color: #3B4455;\n",
              "      fill: #D2E3FC;\n",
              "    }\n",
              "\n",
              "    [theme=dark] .colab-df-convert:hover {\n",
              "      background-color: #434B5C;\n",
              "      box-shadow: 0px 1px 3px 1px rgba(0, 0, 0, 0.15);\n",
              "      filter: drop-shadow(0px 1px 2px rgba(0, 0, 0, 0.3));\n",
              "      fill: #FFFFFF;\n",
              "    }\n",
              "  </style>\n",
              "\n",
              "    <script>\n",
              "      const buttonEl =\n",
              "        document.querySelector('#df-40dbff20-54df-4acc-8482-f64c303defb3 button.colab-df-convert');\n",
              "      buttonEl.style.display =\n",
              "        google.colab.kernel.accessAllowed ? 'block' : 'none';\n",
              "\n",
              "      async function convertToInteractive(key) {\n",
              "        const element = document.querySelector('#df-40dbff20-54df-4acc-8482-f64c303defb3');\n",
              "        const dataTable =\n",
              "          await google.colab.kernel.invokeFunction('convertToInteractive',\n",
              "                                                    [key], {});\n",
              "        if (!dataTable) return;\n",
              "\n",
              "        const docLinkHtml = 'Like what you see? Visit the ' +\n",
              "          '<a target=\"_blank\" href=https://colab.research.google.com/notebooks/data_table.ipynb>data table notebook</a>'\n",
              "          + ' to learn more about interactive tables.';\n",
              "        element.innerHTML = '';\n",
              "        dataTable['output_type'] = 'display_data';\n",
              "        await google.colab.output.renderOutput(dataTable, element);\n",
              "        const docLink = document.createElement('div');\n",
              "        docLink.innerHTML = docLinkHtml;\n",
              "        element.appendChild(docLink);\n",
              "      }\n",
              "    </script>\n",
              "  </div>\n",
              "\n",
              "\n",
              "  <div id=\"id_27d8db98-7c8e-4f8f-a44b-b52c9582b1cf\">\n",
              "    <style>\n",
              "      .colab-df-generate {\n",
              "        background-color: #E8F0FE;\n",
              "        border: none;\n",
              "        border-radius: 50%;\n",
              "        cursor: pointer;\n",
              "        display: none;\n",
              "        fill: #1967D2;\n",
              "        height: 32px;\n",
              "        padding: 0 0 0 0;\n",
              "        width: 32px;\n",
              "      }\n",
              "\n",
              "      .colab-df-generate:hover {\n",
              "        background-color: #E2EBFA;\n",
              "        box-shadow: 0px 1px 2px rgba(60, 64, 67, 0.3), 0px 1px 3px 1px rgba(60, 64, 67, 0.15);\n",
              "        fill: #174EA6;\n",
              "      }\n",
              "\n",
              "      [theme=dark] .colab-df-generate {\n",
              "        background-color: #3B4455;\n",
              "        fill: #D2E3FC;\n",
              "      }\n",
              "\n",
              "      [theme=dark] .colab-df-generate:hover {\n",
              "        background-color: #434B5C;\n",
              "        box-shadow: 0px 1px 3px 1px rgba(0, 0, 0, 0.15);\n",
              "        filter: drop-shadow(0px 1px 2px rgba(0, 0, 0, 0.3));\n",
              "        fill: #FFFFFF;\n",
              "      }\n",
              "    </style>\n",
              "    <button class=\"colab-df-generate\" onclick=\"generateWithVariable('df')\"\n",
              "            title=\"Generate code using this dataframe.\"\n",
              "            style=\"display:none;\">\n",
              "\n",
              "  <svg xmlns=\"http://www.w3.org/2000/svg\" height=\"24px\"viewBox=\"0 0 24 24\"\n",
              "       width=\"24px\">\n",
              "    <path d=\"M7,19H8.4L18.45,9,17,7.55,7,17.6ZM5,21V16.75L18.45,3.32a2,2,0,0,1,2.83,0l1.4,1.43a1.91,1.91,0,0,1,.58,1.4,1.91,1.91,0,0,1-.58,1.4L9.25,21ZM18.45,9,17,7.55Zm-12,3A5.31,5.31,0,0,0,4.9,8.1,5.31,5.31,0,0,0,1,6.5,5.31,5.31,0,0,0,4.9,4.9,5.31,5.31,0,0,0,6.5,1,5.31,5.31,0,0,0,8.1,4.9,5.31,5.31,0,0,0,12,6.5,5.46,5.46,0,0,0,6.5,12Z\"/>\n",
              "  </svg>\n",
              "    </button>\n",
              "    <script>\n",
              "      (() => {\n",
              "      const buttonEl =\n",
              "        document.querySelector('#id_27d8db98-7c8e-4f8f-a44b-b52c9582b1cf button.colab-df-generate');\n",
              "      buttonEl.style.display =\n",
              "        google.colab.kernel.accessAllowed ? 'block' : 'none';\n",
              "\n",
              "      buttonEl.onclick = () => {\n",
              "        google.colab.notebook.generateWithVariable('df');\n",
              "      }\n",
              "      })();\n",
              "    </script>\n",
              "  </div>\n",
              "\n",
              "    </div>\n",
              "  </div>\n"
            ],
            "application/vnd.google.colaboratory.intrinsic+json": {
              "type": "dataframe",
              "variable_name": "df",
              "summary": "{\n  \"name\": \"df\",\n  \"rows\": 1,\n  \"fields\": [\n    {\n      \"column\": \"email\",\n      \"properties\": {\n        \"dtype\": \"string\",\n        \"num_unique_values\": 1,\n        \"samples\": [\n          \"23f2004636@ds.study.IIT Madras.ac.in\"\n        ],\n        \"semantic_type\": \"\",\n        \"description\": \"\"\n      }\n    },\n    {\n      \"column\": \"answer\",\n      \"properties\": {\n        \"dtype\": \"string\",\n        \"num_unique_values\": 1,\n        \"samples\": [\n          \"a1b43\"\n        ],\n        \"semantic_type\": \"\",\n        \"description\": \"\"\n      }\n    }\n  ]\n}"
            }
          },
          "metadata": {},
          "execution_count": 10
        }
      ]
    },
    {
      "cell_type": "markdown",
      "source": [
        "##Q9"
      ],
      "metadata": {
        "id": "_FOxmdbb8Go_"
      }
    },
    {
      "cell_type": "code",
      "source": [
        "import json\n",
        "\n",
        "# Input JSON data\n",
        "data = [\n",
        "    {\"name\": \"Alice\", \"age\": 59},\n",
        "    {\"name\": \"Bob\", \"age\": 25},\n",
        "    {\"name\": \"Charlie\", \"age\": 64},\n",
        "    {\"name\": \"David\", \"age\": 62},\n",
        "    {\"name\": \"Emma\", \"age\": 3},\n",
        "    {\"name\": \"Frank\", \"age\": 55},\n",
        "    {\"name\": \"Grace\", \"age\": 33},\n",
        "    {\"name\": \"Henry\", \"age\": 30},\n",
        "    {\"name\": \"Ivy\", \"age\": 51},\n",
        "    {\"name\": \"Jack\", \"age\": 91},\n",
        "    {\"name\": \"Karen\", \"age\": 16},\n",
        "    {\"name\": \"Liam\", \"age\": 69},\n",
        "    {\"name\": \"Mary\", \"age\": 1},\n",
        "    {\"name\": \"Nora\", \"age\": 41},\n",
        "    {\"name\": \"Oscar\", \"age\": 0},\n",
        "    {\"name\": \"Paul\", \"age\": 90}\n",
        "]\n",
        "\n",
        "# Sort the data by 'age' and 'name' in case of a tie\n",
        "sorted_data = sorted(data, key=lambda x: (x['age'], x['name']))\n",
        "\n",
        "# Output the sorted JSON\n",
        "print(json.dumps(sorted_data))\n"
      ],
      "metadata": {
        "colab": {
          "base_uri": "https://localhost:8080/"
        },
        "id": "NI18c2u6toVV",
        "outputId": "1c499d29-ae40-43de-b4e8-50e35b2bf56c"
      },
      "execution_count": null,
      "outputs": [
        {
          "output_type": "stream",
          "name": "stdout",
          "text": [
            "[{\"name\": \"Oscar\", \"age\": 0}, {\"name\": \"Mary\", \"age\": 1}, {\"name\": \"Emma\", \"age\": 3}, {\"name\": \"Karen\", \"age\": 16}, {\"name\": \"Bob\", \"age\": 25}, {\"name\": \"Henry\", \"age\": 30}, {\"name\": \"Grace\", \"age\": 33}, {\"name\": \"Nora\", \"age\": 41}, {\"name\": \"Ivy\", \"age\": 51}, {\"name\": \"Frank\", \"age\": 55}, {\"name\": \"Alice\", \"age\": 59}, {\"name\": \"David\", \"age\": 62}, {\"name\": \"Charlie\", \"age\": 64}, {\"name\": \"Liam\", \"age\": 69}, {\"name\": \"Paul\", \"age\": 90}, {\"name\": \"Jack\", \"age\": 91}]\n"
          ]
        }
      ]
    },
    {
      "cell_type": "markdown",
      "source": [
        "#Q10\n",
        "#Note for u ppl:)\n",
        "\"You can replace the data with your own data if it's not same and then paste the output at https://tools-in-data-science.pages.dev/jsonhash\"\n"
      ],
      "metadata": {
        "id": "uJEYDQYguTSk"
      }
    },
    {
      "cell_type": "code",
      "source": [
        "import json\n",
        "\n",
        "# Given data as a string (each key-value pair separated by newline)\n",
        "data = \"\"\"\n",
        "9=dVbs1Fglj\n",
        "3qPJlbo=z\n",
        "HJGV0zayva=U79W7zqb2\n",
        "tYLosXckk=wcGK3V\n",
        "5yzrYRs=hQIBcL1VZ9\n",
        "V6lkhDlqXQ=PI\n",
        "Jo=2XKVsw\n",
        "5J9TCFtkIq=jF7ZPdhilW\n",
        "8mym=def6br\n",
        "o8l=Qyj3T\n",
        "I2G=U2auGx\n",
        "ykaJQ=P\n",
        "Y8NBM3=6yA\n",
        "7MrAIZ99T=Sd\n",
        "nT4J9XLPEg=Y\n",
        "6fl=kRvUhzXFnm\n",
        "eE49Z=xUyj\n",
        "B=s\n",
        "c7K1=RWLuS4X\n",
        "wSAEUyP5=rfXTesHOI\n",
        "JReoJzlAr=OOSq0pX\n",
        "inEU=jtOSQcaK\n",
        "F7lfAWrWx=rtYDeLgtB\n",
        "zUZP4Afm72=Hb7Qo\n",
        "qXSHsJ5=5BR5Dw\n",
        "SMo=yswGWAyI\n",
        "Cud=lKp8GI\n",
        "hLaGRpEg=62KWPwO1G\n",
        "nciSrWUnu=IH\n",
        "9Qg=xFQr8oPe\n",
        "Z07l7OB=Ieef57L\n",
        "c92=g809iHJVD\n",
        "l=tP\n",
        "Wx=8\n",
        "l3hMj1sMx=f3p7xzBPC\n",
        "g=9\n",
        "Ke=X8AxlLQY\n",
        "NQ7sQ=Cb3Z\n",
        "SyKxB=SEOhwoX\n",
        "2jqZbB=aLE6yApm8\n",
        "UVs=VmIWd\n",
        "Gk1m9=Q8cV\n",
        "w7xy=5T4I8yO\n",
        "9t=r\n",
        "YRhT1u=tvAHg1h2\n",
        "ffb=Rcv6oXTww\n",
        "9aC=k\n",
        "pbsB58g7=T\n",
        "kP8JDrr=UMdrEiqH\n",
        "1AV=cc9Vr\n",
        "q2=P9\n",
        "p2=ZHz53pp\n",
        "FMDvFC=NDWnIPRSbB\n",
        "y1OlsLk=g6t\n",
        "ujqcRk=yPWaw\n",
        "XmMTT1xs=e419AEir\n",
        "Uv=SQA5\n",
        "ynNUb=vvU\n",
        "V=RJHaR\n",
        "7wGr=TcCTKfsq\n",
        "fatn=ubw3eex\n",
        "e8=3w33dbB3SA\n",
        "BB=rrQwuw2s\n",
        "J0qv=I\n",
        "a880CTmWH=AtMe\n",
        "QUdep0=rHO\n",
        "5p6=Y\n",
        "X8FfwFQF=g4wDF\n",
        "Inbp1kLL5I=iZ4z\n",
        "Vg=PJf6Vaqg\n",
        "lrJWD=1CsH2BQWTO\n",
        "2FYegP2O=fI7W\n",
        "Cd2qaTe=j0iN3OH9e4\n",
        "wb4m=ABInsWtoD\n",
        "oxMMQ=6k\n",
        "RKEnq039=x\n",
        "mYj53n=MFH\n",
        "J87=AMnTxhwg\n",
        "bgxwrM=8tHdvMlPva\n",
        "cwW=XDMDPFos6\n",
        "BnU5=HB\n",
        "ENsf=Vcu9\n",
        "lKSG=Mm\n",
        "Vuu37LxZ7=x\n",
        "Q93TSc=LPy0Q\n",
        "oM5=m0nF\n",
        "QgqB8u2Dj=UlQB0Gxo\n",
        "Tp=PIIU\n",
        "R=nwMtfwdF1i\n",
        "LjrSLBLYB=YD\n",
        "8dlzuE=jKL9wqN\n",
        "uXY=pe9h\n",
        "Tin=I8Is14CrWB\n",
        "7yxOKMI=8ctVEmyL\n",
        "DFgI3TEt13=1jTSmIqjU\n",
        "QYXTtp=XIFEE\n",
        "Zv04QfZthV=Ierma\n",
        "Mi4jWm9e=YxpAiF\n",
        "q2qgp=jNmuqwCG\n",
        "4jG4Ui=CPq0aDol\n",
        "\"\"\"\n",
        "\n",
        "# Split the data into key-value pairs\n",
        "data_dict = {}\n",
        "for line in data.strip().split(\"\\n\"):\n",
        "    key, value = line.split(\"=\")\n",
        "    data_dict[key] = value\n",
        "\n",
        "# Convert the dictionary to JSON format\n",
        "json_data = json.dumps(data_dict, indent=4)\n",
        "\n",
        "# Output the JSON data\n",
        "print(json_data)\n"
      ],
      "metadata": {
        "colab": {
          "base_uri": "https://localhost:8080/"
        },
        "id": "X4_lFM8MuVa5",
        "outputId": "3823f35f-5c1d-4072-e88e-dfeac0d24358"
      },
      "execution_count": null,
      "outputs": [
        {
          "output_type": "stream",
          "name": "stdout",
          "text": [
            "{\n",
            "    \"9\": \"dVbs1Fglj\",\n",
            "    \"3qPJlbo\": \"z\",\n",
            "    \"HJGV0zayva\": \"U79W7zqb2\",\n",
            "    \"tYLosXckk\": \"wcGK3V\",\n",
            "    \"5yzrYRs\": \"hQIBcL1VZ9\",\n",
            "    \"V6lkhDlqXQ\": \"PI\",\n",
            "    \"Jo\": \"2XKVsw\",\n",
            "    \"5J9TCFtkIq\": \"jF7ZPdhilW\",\n",
            "    \"8mym\": \"def6br\",\n",
            "    \"o8l\": \"Qyj3T\",\n",
            "    \"I2G\": \"U2auGx\",\n",
            "    \"ykaJQ\": \"P\",\n",
            "    \"Y8NBM3\": \"6yA\",\n",
            "    \"7MrAIZ99T\": \"Sd\",\n",
            "    \"nT4J9XLPEg\": \"Y\",\n",
            "    \"6fl\": \"kRvUhzXFnm\",\n",
            "    \"eE49Z\": \"xUyj\",\n",
            "    \"B\": \"s\",\n",
            "    \"c7K1\": \"RWLuS4X\",\n",
            "    \"wSAEUyP5\": \"rfXTesHOI\",\n",
            "    \"JReoJzlAr\": \"OOSq0pX\",\n",
            "    \"inEU\": \"jtOSQcaK\",\n",
            "    \"F7lfAWrWx\": \"rtYDeLgtB\",\n",
            "    \"zUZP4Afm72\": \"Hb7Qo\",\n",
            "    \"qXSHsJ5\": \"5BR5Dw\",\n",
            "    \"SMo\": \"yswGWAyI\",\n",
            "    \"Cud\": \"lKp8GI\",\n",
            "    \"hLaGRpEg\": \"62KWPwO1G\",\n",
            "    \"nciSrWUnu\": \"IH\",\n",
            "    \"9Qg\": \"xFQr8oPe\",\n",
            "    \"Z07l7OB\": \"Ieef57L\",\n",
            "    \"c92\": \"g809iHJVD\",\n",
            "    \"l\": \"tP\",\n",
            "    \"Wx\": \"8\",\n",
            "    \"l3hMj1sMx\": \"f3p7xzBPC\",\n",
            "    \"g\": \"9\",\n",
            "    \"Ke\": \"X8AxlLQY\",\n",
            "    \"NQ7sQ\": \"Cb3Z\",\n",
            "    \"SyKxB\": \"SEOhwoX\",\n",
            "    \"2jqZbB\": \"aLE6yApm8\",\n",
            "    \"UVs\": \"VmIWd\",\n",
            "    \"Gk1m9\": \"Q8cV\",\n",
            "    \"w7xy\": \"5T4I8yO\",\n",
            "    \"9t\": \"r\",\n",
            "    \"YRhT1u\": \"tvAHg1h2\",\n",
            "    \"ffb\": \"Rcv6oXTww\",\n",
            "    \"9aC\": \"k\",\n",
            "    \"pbsB58g7\": \"T\",\n",
            "    \"kP8JDrr\": \"UMdrEiqH\",\n",
            "    \"1AV\": \"cc9Vr\",\n",
            "    \"q2\": \"P9\",\n",
            "    \"p2\": \"ZHz53pp\",\n",
            "    \"FMDvFC\": \"NDWnIPRSbB\",\n",
            "    \"y1OlsLk\": \"g6t\",\n",
            "    \"ujqcRk\": \"yPWaw\",\n",
            "    \"XmMTT1xs\": \"e419AEir\",\n",
            "    \"Uv\": \"SQA5\",\n",
            "    \"ynNUb\": \"vvU\",\n",
            "    \"V\": \"RJHaR\",\n",
            "    \"7wGr\": \"TcCTKfsq\",\n",
            "    \"fatn\": \"ubw3eex\",\n",
            "    \"e8\": \"3w33dbB3SA\",\n",
            "    \"BB\": \"rrQwuw2s\",\n",
            "    \"J0qv\": \"I\",\n",
            "    \"a880CTmWH\": \"AtMe\",\n",
            "    \"QUdep0\": \"rHO\",\n",
            "    \"5p6\": \"Y\",\n",
            "    \"X8FfwFQF\": \"g4wDF\",\n",
            "    \"Inbp1kLL5I\": \"iZ4z\",\n",
            "    \"Vg\": \"PJf6Vaqg\",\n",
            "    \"lrJWD\": \"1CsH2BQWTO\",\n",
            "    \"2FYegP2O\": \"fI7W\",\n",
            "    \"Cd2qaTe\": \"j0iN3OH9e4\",\n",
            "    \"wb4m\": \"ABInsWtoD\",\n",
            "    \"oxMMQ\": \"6k\",\n",
            "    \"RKEnq039\": \"x\",\n",
            "    \"mYj53n\": \"MFH\",\n",
            "    \"J87\": \"AMnTxhwg\",\n",
            "    \"bgxwrM\": \"8tHdvMlPva\",\n",
            "    \"cwW\": \"XDMDPFos6\",\n",
            "    \"BnU5\": \"HB\",\n",
            "    \"ENsf\": \"Vcu9\",\n",
            "    \"lKSG\": \"Mm\",\n",
            "    \"Vuu37LxZ7\": \"x\",\n",
            "    \"Q93TSc\": \"LPy0Q\",\n",
            "    \"oM5\": \"m0nF\",\n",
            "    \"QgqB8u2Dj\": \"UlQB0Gxo\",\n",
            "    \"Tp\": \"PIIU\",\n",
            "    \"R\": \"nwMtfwdF1i\",\n",
            "    \"LjrSLBLYB\": \"YD\",\n",
            "    \"8dlzuE\": \"jKL9wqN\",\n",
            "    \"uXY\": \"pe9h\",\n",
            "    \"Tin\": \"I8Is14CrWB\",\n",
            "    \"7yxOKMI\": \"8ctVEmyL\",\n",
            "    \"DFgI3TEt13\": \"1jTSmIqjU\",\n",
            "    \"QYXTtp\": \"XIFEE\",\n",
            "    \"Zv04QfZthV\": \"Ierma\",\n",
            "    \"Mi4jWm9e\": \"YxpAiF\",\n",
            "    \"q2qgp\": \"jNmuqwCG\",\n",
            "    \"4jG4Ui\": \"CPq0aDol\"\n",
            "}\n"
          ]
        }
      ]
    },
    {
      "cell_type": "markdown",
      "source": [
        "##Q11\n",
        "#Note:)\n",
        "1. Select the complete code by using \"ctrl+A\"\n",
        "2. Uncomment the code by using \"ctrl+/\"\n",
        "3. Copy the whole code by using \"ctrl+C\".\n",
        "4. Go to the TDS assignment.\n",
        "5. Right click and select Inspect.\n",
        "6. Paste the code in console.\n",
        "7. Click enter"
      ],
      "metadata": {
        "id": "D51sK-Q-wMVo"
      }
    },
    {
      "cell_type": "code",
      "source": [
        "# // Select all <div> elements with the class 'foo' and 'data-value' attribute\n",
        "# let divs = document.querySelectorAll('div.foo[data-value]');\n",
        "\n",
        "# // Initialize a variable to store the sum\n",
        "# let sum = 0;\n",
        "\n",
        "# // Loop through the selected <div> elements\n",
        "# divs.forEach(div => {\n",
        "#     // Get the 'data-value' attribute and parse it as a float\n",
        "#     let value = parseFloat(div.getAttribute('data-value'));\n",
        "\n",
        "#     // Add the value to the sum\n",
        "#     sum += value;\n",
        "# });\n",
        "\n",
        "# // Output the sum of data-value attributes\n",
        "# console.log(\"Sum of data-value attributes:\", sum);"
      ],
      "metadata": {
        "id": "MbU7uYQuyGRM"
      },
      "execution_count": null,
      "outputs": []
    },
    {
      "cell_type": "markdown",
      "source": [
        "## Q12"
      ],
      "metadata": {
        "id": "SoSU6_xKzF3L"
      }
    },
    {
      "cell_type": "code",
      "source": [
        "import pandas as pd\n",
        "\n",
        "# Load data1.csv with CP-1252 encoding\n",
        "data1 = pd.read_csv('data1.csv', encoding='cp1252')\n",
        "# Load data2.csv with UTF-8 encoding\n",
        "data2 = pd.read_csv('data2.csv', encoding='utf-8')\n",
        "# Load data3.txt with UTF-16 encoding, tab-separated\n",
        "data3 = pd.read_csv('data3.txt', encoding='utf-16', sep='\\t')\n",
        "\n",
        "# Concatenate all data\n",
        "all_data = pd.concat([data1, data2, data3])\n",
        "\n",
        "# Filter rows where symbol is '˜', 'š', or '“'\n",
        "filtered_data = all_data[all_data['symbol'].isin(['˜', 'š', '“'])]\n",
        "\n",
        "# Sum the values\n",
        "total_sum = filtered_data['value'].sum()\n",
        "\n",
        "print(f\"The sum of all values associated with the symbols is: {total_sum}\")\n"
      ],
      "metadata": {
        "colab": {
          "base_uri": "https://localhost:8080/"
        },
        "id": "Ucj6RcspzpzF",
        "outputId": "218f6f53-5f5f-4317-dda2-13d99a94e41e"
      },
      "execution_count": null,
      "outputs": [
        {
          "output_type": "stream",
          "name": "stdout",
          "text": [
            "The sum of all values associated with the symbols is: 40087\n"
          ]
        }
      ]
    },
    {
      "cell_type": "markdown",
      "source": [
        "## Q13\n",
        "# Note:)\n",
        "\n",
        "1. Go to GitHub and log in.\n",
        "2. Click the \"New\" button (+ icon) in the top-right corner and select \"New repository.\"\n",
        "3. Name your repository and set it to public.\n",
        "4. Click \"Create repository.\"\n",
        "5. Add a New File:\n",
        "In the newly created repository, click on \"Add file\" and select \"Create new file.\"\n",
        "6. Name the file email.json.\n",
        "7. Enter File Content:\n",
        "{\n",
        "  \"email\": \"xxxxxxxxxx.study.iitm.ac.in\"\n",
        "}\n",
        "8. Scroll down and enter a commit message, e.g., \"Add email.json with email value.\"\n",
        "9. Click \"Commit new file.\"\n",
        "10. Get the Raw URL: Click on email.json in your repository, Click on \"Raw\" to view the raw file, Copy the URL from the browser's address bar."
      ],
      "metadata": {
        "id": "zJAuiHE20sf6"
      }
    },
    {
      "cell_type": "code",
      "source": [
        "# https://raw.githubusercontent.com/[GITHUB ID]/[REPO NAME]/main/email.json"
      ],
      "metadata": {
        "id": "TWo3Q7Go0yLw"
      },
      "execution_count": null,
      "outputs": []
    },
    {
      "cell_type": "markdown",
      "source": [
        "## Q14\n",
        "\n"
      ],
      "metadata": {
        "id": "frqxOK5o1vTE"
      }
    },
    {
      "cell_type": "code",
      "source": [
        "# 1. Open Linux and locate to dir.\n",
        "# 2. sed -i 's/IITM/IIT Madras/gI' *\n",
        "# 3. cat * | sha256sum"
      ],
      "metadata": {
        "id": "5q3hhvhnYCtL"
      },
      "execution_count": null,
      "outputs": []
    },
    {
      "cell_type": "markdown",
      "source": [
        "##Q 15"
      ],
      "metadata": {
        "id": "RmeI9NvfVzNQ"
      }
    },
    {
      "cell_type": "code",
      "source": [
        "# 1. Open Linux and locate to dir.\n",
        "# 2. find . -type f -size +7532c -newermt \"2020-11-20\" -exec ls -l {} \\; | awk '{sum += $5} END {print sum}'"
      ],
      "metadata": {
        "id": "Da97ewpeV0hh"
      },
      "execution_count": null,
      "outputs": []
    },
    {
      "cell_type": "markdown",
      "source": [
        "##Q16"
      ],
      "metadata": {
        "id": "eqpF74vbVHgZ"
      }
    },
    {
      "cell_type": "code",
      "source": [
        "# # Q16\n",
        "# 1. Open Linux and locate to dir.\n",
        "# 2. find . -type f -exec mv {} . \\;\n",
        "# 3. for f in *; do\n",
        "#   new=$(echo \"$f\" | tr '0123456789' '1234567890')\n",
        "#   mv \"$f\" \"$new\"\n",
        "# done\n",
        "# 4. grep . * | LC_ALL=C sort | sha256sum"
      ],
      "metadata": {
        "id": "O4SYWeYvU69W"
      },
      "execution_count": null,
      "outputs": []
    },
    {
      "cell_type": "markdown",
      "source": [
        "##Q17"
      ],
      "metadata": {
        "id": "lfHdcTL_VN4A"
      }
    },
    {
      "cell_type": "code",
      "source": [
        "# Q17\n",
        "# diff -y --suppress-common-lines a.txt b.txt | wc -l"
      ],
      "metadata": {
        "id": "29VTx6rdVPSC"
      },
      "execution_count": null,
      "outputs": []
    },
    {
      "cell_type": "markdown",
      "source": [
        "##Q18"
      ],
      "metadata": {
        "id": "lr2uHyfAVSSw"
      }
    },
    {
      "cell_type": "code",
      "source": [
        "# # # Q18\n",
        "# SELECT SUM(units * price)\n",
        "# FROM tickets\n",
        "# WHERE LOWER(TRIM(type)) = 'gold';"
      ],
      "metadata": {
        "id": "z7vq4--UPK2P"
      },
      "execution_count": null,
      "outputs": []
    }
  ]
}