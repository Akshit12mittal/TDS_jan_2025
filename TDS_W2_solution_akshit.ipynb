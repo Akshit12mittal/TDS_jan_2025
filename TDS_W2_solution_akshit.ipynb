{
  "nbformat": 4,
  "nbformat_minor": 0,
  "metadata": {
    "colab": {
      "provenance": []
    },
    "kernelspec": {
      "name": "python3",
      "display_name": "Python 3"
    },
    "language_info": {
      "name": "python"
    }
  },
  "cells": [
    {
      "cell_type": "markdown",
      "source": [
        "Hi ppl, I have created this notebook, you can verify or do your answers.\\\n",
        "You can connect with me on LinkedIn: https://www.linkedin.com/in/akshit12mittal"
      ],
      "metadata": {
        "id": "G-DtUaaQJGtk"
      }
    },
    {
      "cell_type": "code",
      "source": [
        "# https://www.linkedin.com/in/akshit12mittal"
      ],
      "metadata": {
        "id": "sPgxxbvo-xFs"
      },
      "execution_count": null,
      "outputs": []
    },
    {
      "cell_type": "markdown",
      "source": [
        "## Q1"
      ],
      "metadata": {
        "id": "hCHMhm9ncUlp"
      }
    },
    {
      "cell_type": "code",
      "source": [
        "# Weekly Step Analysis\n",
        "\n",
        "This report analyzes the **number** of steps walked each day for a week, comparing personal trends over time and with friends. The goal is to identify areas for improvement and maintain a consistent exercise routine.\n",
        "\n",
        "---\n",
        "\n",
        "## Methodology\n",
        "\n",
        "The analysis follows these steps:\n",
        "\n",
        "1. *Data Collection*:\n",
        "   - Step counts were recorded using a fitness tracker.\n",
        "   - Friends' step data was collected via a shared fitness app.\n",
        "\n",
        "2. *Data Analysis*:\n",
        "   - Daily step counts were compared with the personal goal of 10,000 steps.\n",
        "   - Weekly trends were visualized and summarized.\n",
        "\n",
        "3. *Comparison*:\n",
        "   - Trends were compared with friends' weekly averages.\n",
        "\n",
        "Note: This analysis assumes all data points are accurate and complete. If not, a preprocessing step is applied using the function `clean_data(dataset)`.\n",
        "\n",
        "---\n",
        "\n",
        "## Results\n",
        "\n",
        "### Step Counts Table\n",
        "The table below compares personal step counts with friends' averages:\n",
        "\n",
        "| Day       | My Steps | Friends' Avg Steps |\n",
        "|-----------|----------|--------------------|\n",
        "| Monday    | 8,500    | 9,800              |\n",
        "| Tuesday   | 9,200    | 10,100             |\n",
        "| Wednesday | 7,500    | 8,900              |\n",
        "| Thursday  | 10,300   | 10,500             |\n",
        "| Friday    | 12,000   | 9,700              |\n",
        "| Saturday  | 14,000   | 11,200             |\n",
        "| Sunday    | 13,500   | 12,000             |\n",
        "\n",
        "---\n",
        "###Hyperlink\n",
        "\n",
        "[stepcount](https://stepcount.com)\n",
        "\n",
        "###Image\n",
        "![Step Count Image](https://www.dreamstime.com/illustration/step-counter.html)\n",
        "\n",
        "###Blockquote\n",
        ">Number of steps you walked in a week is presented.\n",
        "\n",
        "## Observations\n",
        "\n",
        "- *Weekend Success*: Step counts were significantly higher on Saturday and Sunday.\n",
        "- *Midweek Dip*: Wednesday had the lowest step count.\n",
        "- *Goal Achievement*: The 10,000-step goal was achieved on four out of seven days.\n",
        "\n",
        "---\n",
        "\n",
        "### Visualizing Weekly Steps\n",
        "The following Python code was used to create a bar chart showing step counts:\n",
        "\n",
        "```python\n",
        "import matplotlib.pyplot as plt\n",
        "\n",
        "days = [\"Monday\", \"Tuesday\", \"Wednesday\", \"Thursday\", \"Friday\", \"Saturday\", \"Sunday\"]\n",
        "my_steps = [8500, 9200, 7500, 10300, 12000, 14000, 13500]\n",
        "\n",
        "plt.bar(days, my_steps, color='skyblue')\n",
        "plt.title(\"My Daily Step Counts\")\n",
        "plt.xlabel(\"Days\")\n",
        "plt.ylabel(\"Steps\")\n",
        "plt.axhline(y=10000, color='red', linestyle='--', label='Goal')\n",
        "plt.legend()\n",
        "plt.show()"
      ],
      "metadata": {
        "id": "Qyy-XU87cZPQ"
      },
      "execution_count": null,
      "outputs": []
    },
    {
      "cell_type": "markdown",
      "source": [
        "## Q2\n",
        "1. Download image.\n",
        "2. Paste in this site and download compressed: https://tinypng.com/"
      ],
      "metadata": {
        "id": "k7OCPHlXcaEr"
      }
    },
    {
      "cell_type": "code",
      "source": [
        "# https://tinypng.com/"
      ],
      "metadata": {
        "id": "-3Q3YSj-N_Ts"
      },
      "execution_count": null,
      "outputs": []
    },
    {
      "cell_type": "markdown",
      "source": [
        "## Q3\n",
        "1. Create a GitHub account (if you don’t have one already) https://github.com/.\n",
        "   \n",
        "2. Create a new repository. Click on the “+” sign in the upper-right corner and select \"New repository.\" Name your repository (e.g., `TDS_W2_GIT`) and choose \"Public.\" Then, click \"Create repository.\"\n",
        "\n",
        "3. Click on the \"Add file\" button and select \"Create new file\" from the dropdown.\n",
        "\n",
        "4. Create an HTML file (e.g., `index.html`) in this directory.\n",
        "\n",
        "5. In the `index.html` file, write the content for your page and insert the following comment to obfuscate your email address:\n",
        "\n",
        "   ```html\n",
        "   <html>\n",
        "   <head>\n",
        "     <title>Your Showcase</title>\n",
        "   </head>\n",
        "   <body>\n",
        "     <h1>Welcome to My Showcase!</h1>\n",
        "     <p>Contact me at: <!--email_off-->xxxxxxxxxx@ds.study.iitm.ac.in<!--/email_off--></p>\n",
        "   </body>\n",
        "   </html>\n",
        "   ```\n",
        "\n",
        "6. Go to your GitHub repository page, and click on the \"Settings\" tab.\n",
        "\n",
        "7. Scroll down to the \"Pages\" section. Under the \"Source\" dropdown, select the `main` branch and click \"Save.\"\n",
        "\n",
        "8. Your site will be published at: `https://[YourUsername].github.io/[YourRepository]/`\n"
      ],
      "metadata": {
        "id": "MSwZ3tOBUMSL"
      }
    },
    {
      "cell_type": "code",
      "source": [
        "# https://xxxxxxx.github.io/TDS_W2_GIT/"
      ],
      "metadata": {
        "id": "JosNwlxTUKUF"
      },
      "execution_count": null,
      "outputs": []
    },
    {
      "cell_type": "markdown",
      "source": [
        "##Q4"
      ],
      "metadata": {
        "id": "A9AXIH2eTrdN"
      }
    },
    {
      "cell_type": "code",
      "source": [
        "import hashlib\n",
        "import requests\n",
        "from google.colab import auth\n",
        "from oauth2client.client import GoogleCredentials\n",
        "\n",
        "auth.authenticate_user()\n",
        "creds = GoogleCredentials.get_application_default()\n",
        "token = creds.get_access_token().access_token\n",
        "response = requests.get(\n",
        "  \"https://www.googleapis.com/oauth2/v1/userinfo\",\n",
        "  params={\"alt\": \"json\"},\n",
        "  headers={\"Authorization\": f\"Bearer {token}\"}\n",
        ")\n",
        "email = response.json()[\"email\"]\n",
        "hashlib.sha256(f\"{email} {creds.token_expiry.year}\".encode()).hexdigest()[-5:]"
      ],
      "metadata": {
        "colab": {
          "base_uri": "https://localhost:8080/",
          "height": 35
        },
        "id": "4gloYbu_TuZP",
        "outputId": "68b71a19-4c9e-40d8-dffd-15b81e4cc587"
      },
      "execution_count": null,
      "outputs": [
        {
          "output_type": "execute_result",
          "data": {
            "text/plain": [
              "'5253c'"
            ],
            "application/vnd.google.colaboratory.intrinsic+json": {
              "type": "string"
            }
          },
          "metadata": {},
          "execution_count": 2
        }
      ]
    },
    {
      "cell_type": "markdown",
      "source": [
        "## Q5"
      ],
      "metadata": {
        "id": "k6sFc5fhUgJH"
      }
    },
    {
      "cell_type": "code",
      "source": [
        "# Download this image. Create a new Google Colab notebook and run this code (after fixing a mistake in it) to calculate the number of pixels with a certain minimum brightness:\n",
        "\n",
        "import numpy as np\n",
        "from PIL import Image\n",
        "from google.colab import files\n",
        "import colorsys\n",
        "\n",
        "# There is a mistake in the line below. Fix it\n",
        "image = Image.open(list(files.upload().keys())[0])\n",
        "\n",
        "rgb = np.array(image) / 255.0\n",
        "lightness = np.apply_along_axis(lambda x: colorsys.rgb_to_hls(*x)[1], 2, rgb)\n",
        "light_pixels = np.sum(lightness > 0.207)\n",
        "print(f'Number of pixels with lightness > 0.207: {light_pixels}')"
      ],
      "metadata": {
        "colab": {
          "base_uri": "https://localhost:8080/",
          "height": 90
        },
        "id": "ydnVZtS3UfaF",
        "outputId": "ad5c32cb-7e7a-4d0b-856d-3d990c07d64e"
      },
      "execution_count": null,
      "outputs": [
        {
          "output_type": "display_data",
          "data": {
            "text/plain": [
              "<IPython.core.display.HTML object>"
            ],
            "text/html": [
              "\n",
              "     <input type=\"file\" id=\"files-9cd65665-1022-4c85-bca1-77fb237282db\" name=\"files[]\" multiple disabled\n",
              "        style=\"border:none\" />\n",
              "     <output id=\"result-9cd65665-1022-4c85-bca1-77fb237282db\">\n",
              "      Upload widget is only available when the cell has been executed in the\n",
              "      current browser session. Please rerun this cell to enable.\n",
              "      </output>\n",
              "      <script>// Copyright 2017 Google LLC\n",
              "//\n",
              "// Licensed under the Apache License, Version 2.0 (the \"License\");\n",
              "// you may not use this file except in compliance with the License.\n",
              "// You may obtain a copy of the License at\n",
              "//\n",
              "//      http://www.apache.org/licenses/LICENSE-2.0\n",
              "//\n",
              "// Unless required by applicable law or agreed to in writing, software\n",
              "// distributed under the License is distributed on an \"AS IS\" BASIS,\n",
              "// WITHOUT WARRANTIES OR CONDITIONS OF ANY KIND, either express or implied.\n",
              "// See the License for the specific language governing permissions and\n",
              "// limitations under the License.\n",
              "\n",
              "/**\n",
              " * @fileoverview Helpers for google.colab Python module.\n",
              " */\n",
              "(function(scope) {\n",
              "function span(text, styleAttributes = {}) {\n",
              "  const element = document.createElement('span');\n",
              "  element.textContent = text;\n",
              "  for (const key of Object.keys(styleAttributes)) {\n",
              "    element.style[key] = styleAttributes[key];\n",
              "  }\n",
              "  return element;\n",
              "}\n",
              "\n",
              "// Max number of bytes which will be uploaded at a time.\n",
              "const MAX_PAYLOAD_SIZE = 100 * 1024;\n",
              "\n",
              "function _uploadFiles(inputId, outputId) {\n",
              "  const steps = uploadFilesStep(inputId, outputId);\n",
              "  const outputElement = document.getElementById(outputId);\n",
              "  // Cache steps on the outputElement to make it available for the next call\n",
              "  // to uploadFilesContinue from Python.\n",
              "  outputElement.steps = steps;\n",
              "\n",
              "  return _uploadFilesContinue(outputId);\n",
              "}\n",
              "\n",
              "// This is roughly an async generator (not supported in the browser yet),\n",
              "// where there are multiple asynchronous steps and the Python side is going\n",
              "// to poll for completion of each step.\n",
              "// This uses a Promise to block the python side on completion of each step,\n",
              "// then passes the result of the previous step as the input to the next step.\n",
              "function _uploadFilesContinue(outputId) {\n",
              "  const outputElement = document.getElementById(outputId);\n",
              "  const steps = outputElement.steps;\n",
              "\n",
              "  const next = steps.next(outputElement.lastPromiseValue);\n",
              "  return Promise.resolve(next.value.promise).then((value) => {\n",
              "    // Cache the last promise value to make it available to the next\n",
              "    // step of the generator.\n",
              "    outputElement.lastPromiseValue = value;\n",
              "    return next.value.response;\n",
              "  });\n",
              "}\n",
              "\n",
              "/**\n",
              " * Generator function which is called between each async step of the upload\n",
              " * process.\n",
              " * @param {string} inputId Element ID of the input file picker element.\n",
              " * @param {string} outputId Element ID of the output display.\n",
              " * @return {!Iterable<!Object>} Iterable of next steps.\n",
              " */\n",
              "function* uploadFilesStep(inputId, outputId) {\n",
              "  const inputElement = document.getElementById(inputId);\n",
              "  inputElement.disabled = false;\n",
              "\n",
              "  const outputElement = document.getElementById(outputId);\n",
              "  outputElement.innerHTML = '';\n",
              "\n",
              "  const pickedPromise = new Promise((resolve) => {\n",
              "    inputElement.addEventListener('change', (e) => {\n",
              "      resolve(e.target.files);\n",
              "    });\n",
              "  });\n",
              "\n",
              "  const cancel = document.createElement('button');\n",
              "  inputElement.parentElement.appendChild(cancel);\n",
              "  cancel.textContent = 'Cancel upload';\n",
              "  const cancelPromise = new Promise((resolve) => {\n",
              "    cancel.onclick = () => {\n",
              "      resolve(null);\n",
              "    };\n",
              "  });\n",
              "\n",
              "  // Wait for the user to pick the files.\n",
              "  const files = yield {\n",
              "    promise: Promise.race([pickedPromise, cancelPromise]),\n",
              "    response: {\n",
              "      action: 'starting',\n",
              "    }\n",
              "  };\n",
              "\n",
              "  cancel.remove();\n",
              "\n",
              "  // Disable the input element since further picks are not allowed.\n",
              "  inputElement.disabled = true;\n",
              "\n",
              "  if (!files) {\n",
              "    return {\n",
              "      response: {\n",
              "        action: 'complete',\n",
              "      }\n",
              "    };\n",
              "  }\n",
              "\n",
              "  for (const file of files) {\n",
              "    const li = document.createElement('li');\n",
              "    li.append(span(file.name, {fontWeight: 'bold'}));\n",
              "    li.append(span(\n",
              "        `(${file.type || 'n/a'}) - ${file.size} bytes, ` +\n",
              "        `last modified: ${\n",
              "            file.lastModifiedDate ? file.lastModifiedDate.toLocaleDateString() :\n",
              "                                    'n/a'} - `));\n",
              "    const percent = span('0% done');\n",
              "    li.appendChild(percent);\n",
              "\n",
              "    outputElement.appendChild(li);\n",
              "\n",
              "    const fileDataPromise = new Promise((resolve) => {\n",
              "      const reader = new FileReader();\n",
              "      reader.onload = (e) => {\n",
              "        resolve(e.target.result);\n",
              "      };\n",
              "      reader.readAsArrayBuffer(file);\n",
              "    });\n",
              "    // Wait for the data to be ready.\n",
              "    let fileData = yield {\n",
              "      promise: fileDataPromise,\n",
              "      response: {\n",
              "        action: 'continue',\n",
              "      }\n",
              "    };\n",
              "\n",
              "    // Use a chunked sending to avoid message size limits. See b/62115660.\n",
              "    let position = 0;\n",
              "    do {\n",
              "      const length = Math.min(fileData.byteLength - position, MAX_PAYLOAD_SIZE);\n",
              "      const chunk = new Uint8Array(fileData, position, length);\n",
              "      position += length;\n",
              "\n",
              "      const base64 = btoa(String.fromCharCode.apply(null, chunk));\n",
              "      yield {\n",
              "        response: {\n",
              "          action: 'append',\n",
              "          file: file.name,\n",
              "          data: base64,\n",
              "        },\n",
              "      };\n",
              "\n",
              "      let percentDone = fileData.byteLength === 0 ?\n",
              "          100 :\n",
              "          Math.round((position / fileData.byteLength) * 100);\n",
              "      percent.textContent = `${percentDone}% done`;\n",
              "\n",
              "    } while (position < fileData.byteLength);\n",
              "  }\n",
              "\n",
              "  // All done.\n",
              "  yield {\n",
              "    response: {\n",
              "      action: 'complete',\n",
              "    }\n",
              "  };\n",
              "}\n",
              "\n",
              "scope.google = scope.google || {};\n",
              "scope.google.colab = scope.google.colab || {};\n",
              "scope.google.colab._files = {\n",
              "  _uploadFiles,\n",
              "  _uploadFilesContinue,\n",
              "};\n",
              "})(self);\n",
              "</script> "
            ]
          },
          "metadata": {}
        },
        {
          "output_type": "stream",
          "name": "stdout",
          "text": [
            "Saving lenna.webp to lenna.webp\n",
            "Number of pixels with lightness > 0.207: 254336\n"
          ]
        }
      ]
    },
    {
      "cell_type": "markdown",
      "source": [
        "## Q6\n",
        "\n",
        "1. Sign Up for Vercel\n",
        "\n",
        "2. Create a new empty repository on GitHub (e.g., TDS_W2_VERCEL).\n",
        "\n",
        "3. Add app/index.py file.(below)\n",
        "\n",
        "4. upload json file from portal.\n",
        "\n",
        "5. sign up in vercel using github where you have created repo.\n",
        "\n",
        "6. Structure should look like this.\n",
        "```\n",
        "my-app/\n",
        "├── api/\n",
        "│   └── index.py  # Serverless function\n",
        "├── .env          # OPTIONAL: Environment variables\n",
        "└── vercel.json    # OPTIONAL: Configuration\n",
        "```\n",
        "7. After logging in to vercel, add the repo and click deploy.\n",
        "\n",
        "8. It will automatically generate the link.\n",
        "\n",
        "9. Copy the link and add /api at the end while submitting: <https://your-app.vercel.app/api>"
      ],
      "metadata": {
        "id": "g0ztwL0Wdd5I"
      }
    },
    {
      "cell_type": "code",
      "source": [
        "import json\n",
        "from http.server import BaseHTTPRequestHandler\n",
        "import urllib.parse\n",
        "\n",
        "# Load student data from the JSON file\n",
        "def load_data():\n",
        "    with open('q-vercel-python.json', 'r') as file:\n",
        "        data = json.load(file)\n",
        "    return data\n",
        "\n",
        "# Handler class to process incoming requests\n",
        "class handler(BaseHTTPRequestHandler):\n",
        "    def do_GET(self):\n",
        "        # Parse the query parameters\n",
        "        query = urllib.parse.parse_qs(urllib.parse.urlparse(self.path).query)\n",
        "\n",
        "        # Get 'name' parameters from the query string\n",
        "        names = query.get('name', [])\n",
        "\n",
        "        # Load data from the JSON file\n",
        "        data = load_data()\n",
        "\n",
        "        # Prepare the result dictionary\n",
        "        result = {\"marks\": []}\n",
        "        for name in names:\n",
        "            # Find the marks for each name\n",
        "            for entry in data:\n",
        "                if entry[\"name\"] == name:\n",
        "                    result[\"marks\"].append(entry[\"marks\"])\n",
        "\n",
        "        # Send the response header\n",
        "        self.send_response(200)\n",
        "        self.send_header('Content-type', 'application/json')\n",
        "        self.send_header('Access-Control-Allow-Origin', '*')  # Enable CORS for any origin\n",
        "        self.end_headers()\n",
        "\n",
        "        # Send the JSON response\n",
        "        self.wfile.write(json.dumps(result).encode('utf-8'))"
      ],
      "metadata": {
        "id": "9xEeeXtYdgqG"
      },
      "execution_count": null,
      "outputs": []
    },
    {
      "cell_type": "markdown",
      "source": [
        "## Q7\n",
        "1. Navigate to Your GitHub Repository: Go to the repository on GitHub where you want to create the action.\n",
        "\n",
        "2. Create a .github/workflows Directory: If it doesn’t already exist, create a .github/workflows directory in the root of your repository.\n",
        "\n",
        "3. Create a Workflow File: Create a new YAML file in the .github/workflows directory, e.g., main.yml.(refer to the code section below)\n",
        "4. Commit the Workflow: Commit the changes and push them to the main branch (or the branch you specified in the workflow file).\n",
        "5. Navigate to the \"Actions\" tab in your repository to check the progress.\n",
        "6. In the \"Actions\" tab, you will see a list of workflows. Click on the latest workflow to see the logs and confirm it ran successfully.\n",
        "7. Once the action is confirmed to be running, copy the URL of your repository from the address bar. It will look something like:\n",
        "https://github.com/your-username/your-repository-name"
      ],
      "metadata": {
        "id": "LpJX4gsDdg4v"
      }
    },
    {
      "cell_type": "code",
      "source": [
        "# main.yml\n",
        "# name: Test Action\n",
        "\n",
        "# on:\n",
        "#   push:\n",
        "#     branches:\n",
        "#       - main  # or any branch you want to trigger the action\n",
        "\n",
        "# jobs:\n",
        "#   test:\n",
        "#     runs-on: ubuntu-latest\n",
        "#     steps:\n",
        "#       - name: Checkout code\n",
        "#         uses: actions/checkout@v3\n",
        "\n",
        "#       - name: xxfxxxxxx@ds.study.iitm.ac.in\n",
        "#         run: echo \"Hello, world!\"\n"
      ],
      "metadata": {
        "id": "KQUe0NX5diF6"
      },
      "execution_count": null,
      "outputs": []
    },
    {
      "cell_type": "markdown",
      "source": [
        "## Q8"
      ],
      "metadata": {
        "id": "N0fCeeUedifF"
      }
    },
    {
      "cell_type": "code",
      "source": [
        "# Paste the entire statement in chatgpt and ask it to give you step wise approach on how to do it:)"
      ],
      "metadata": {
        "id": "CJvFCVGgdkEi"
      },
      "execution_count": null,
      "outputs": []
    },
    {
      "cell_type": "markdown",
      "source": [
        "## Q9\n",
        "\n",
        "1. Install Dependencies: Go to command prompt and type `pip install fastapi uvicorn pandas.`\n",
        "2. Download the q-fastapi.csv from portal.\n",
        "3. Create tds_q9.py with FastAPI Code.(copy paste the below code)\n",
        "4. On the VS code powershell, type this: uvicorn main:app --reload\n",
        "5. Something like this appears: INFO:     Uvicorn running on http://127.0.0.1:8000/api\n",
        "6. Click on that link, you can check the api.\n",
        "Paste it on the portal:)\n"
      ],
      "metadata": {
        "id": "_d2fpVEydH7Y"
      }
    },
    {
      "cell_type": "code",
      "source": [
        "# tds_q9.py\n",
        "from fastapi import FastAPI, Query\n",
        "from fastapi.middleware.cors import CORSMiddleware\n",
        "import pandas as pd\n",
        "\n",
        "app = FastAPI()\n",
        "\n",
        "# Enable CORS for all origins (Allows any frontend to access this API)\n",
        "app.add_middleware(\n",
        "    CORSMiddleware,\n",
        "    allow_origins=[\"*\"],  # Allow all origins\n",
        "    allow_credentials=True,\n",
        "    allow_methods=[\"*\"],  # Allow all HTTP methods\n",
        "    allow_headers=[\"*\"],  # Allow all headers\n",
        ")\n",
        "\n",
        "# Load CSV file\n",
        "df = pd.read_csv(\"q-fastapi.csv\")\n",
        "\n",
        "@app.get(\"/api\")\n",
        "def get_students(class_: list[str] = Query(None, alias=\"class\")):\n",
        "    \"\"\"\n",
        "    Fetch student data from the CSV. If 'class' query parameters are provided,\n",
        "    filter students by those classes.\n",
        "    \"\"\"\n",
        "    if class_:\n",
        "        filtered_df = df[df[\"class\"].isin(class_)]\n",
        "    else:\n",
        "        filtered_df = df\n",
        "\n",
        "    # Convert to dictionary list\n",
        "    students = filtered_df.to_dict(orient=\"records\")\n",
        "    return {\"students\": students}"
      ],
      "metadata": {
        "id": "PYDNipMpIhAf"
      },
      "execution_count": null,
      "outputs": []
    },
    {
      "cell_type": "markdown",
      "source": [
        "## Q10\n",
        "\n",
        "Below steps are for windows only. Mac and linux users can try and use gpt, I don't know anything about mac because I don't have one :(\n",
        "1. Download this(same link is present on portal): `https://huggingface.co/Mozilla/Llama-3.2-1B-Instruct-llamafile/blob/main/Llama-3.2-1B-Instruct.Q6_K.llamafile?download=true`.\n",
        "\n",
        "2. Rename the file from Llama-3.2-1B-Instruct.Q6_K.llamafile to \"Llama-3.2-1B-Instruct.Q6_K.exe\"\n",
        "\n",
        "3. Go to assets section of this link: `https://github.com/Mozilla-Ocho/llamafile/releases` and download llamafile-0.9.0 (download directly: `https://github.com/Mozilla-Ocho/llamafile/releases/download/0.9.0/llamafile-0.9.0`\n",
        "\n",
        "4. Open the vs code and locate to the folder where you have downloaded above files and type this in powershell:  .\\Llama-3.2-1B-Instruct.Q6_K.exe\n",
        "\n",
        "5. You can now chat with ai in your vs code:)\n",
        "\n",
        "6. Ngrok allows you to expose your local HTTP server to the internet:\n",
        "\n",
        "7. Download Ngrok: `https://download.ngrok.com/` and unzip it.\n",
        "\n",
        "8. On ngrok webiste, you need to login and copy your authtoken.\n",
        "\n",
        "9. Open command prompt and go to the directory where you have donwloaded it.\n",
        "\n",
        "10. type this: .\\ngrok config add-authtoken (YOUR_AUTHTOKEN)\n",
        "\n",
        "11. Create tunnel by typing this: .\\ngrok http 8000\n",
        "\n",
        "12. Once you run the ngrok http 8000 command, you should see output like this: `Forwarding: http://<random-id>.ngrok-free.app -> http://localhost:8000`\n",
        "\n",
        "\n",
        "\n",
        "\n",
        "\n",
        "\n",
        "\n"
      ],
      "metadata": {
        "id": "Cw8O4-hVIhU3"
      }
    }
  ]
}